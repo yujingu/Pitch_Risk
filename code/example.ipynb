{
 "cells": [
  {
   "cell_type": "code",
   "execution_count": 1,
   "id": "3f2198b6-8723-4a34-b8d5-c613fa6ff996",
   "metadata": {},
   "outputs": [
    {
     "data": {
      "application/vnd.jupyter.widget-view+json": {
       "model_id": "b0dd558567644822bc7d8c7537404777",
       "version_major": 2,
       "version_minor": 0
      },
      "text/plain": [
       "Output()"
      ]
     },
     "metadata": {},
     "output_type": "display_data"
    }
   ],
   "source": [
    "import PitchRisk as pr\n",
    "\n",
    "import Metrica_IO as mio\n",
    "import Metrica_Viz as mviz\n",
    "import Metrica_Velocities as mvel\n",
    "import Metrica_PitchControl as mpc\n",
    "import numpy as np"
   ]
  },
  {
   "cell_type": "code",
   "execution_count": 2,
   "id": "5aa6b929-a3bb-41cc-af52-1f45a84008b1",
   "metadata": {},
   "outputs": [
    {
     "name": "stdout",
     "output_type": "stream",
     "text": [
      "Reading team: home\n",
      "Reading team: away\n"
     ]
    }
   ],
   "source": [
    "# データ抽出\n",
    "DATADIR = '../sample-data-master/data'\n",
    "\n",
    "game_id = 2 # let's look at sample match 2\n",
    "#game_id=1\n",
    "#game_id=3\n",
    "\n",
    "# read in the event data\n",
    "events = mio.read_event_data(DATADIR,game_id)\n",
    "#print(events)\n",
    "\n",
    "# read in tracking data\n",
    "tracking_home = mio.tracking_data(DATADIR,game_id,'Home')\n",
    "tracking_away = mio.tracking_data(DATADIR,game_id,'Away')\n",
    "\n",
    "# Convert positions from metrica units to meters (note change in Metrica's coordinate system since the last lesson)\n",
    "tracking_home = mio.to_metric_coordinates(tracking_home)\n",
    "tracking_away = mio.to_metric_coordinates(tracking_away)\n",
    "events = mio.to_metric_coordinates(events)\n",
    "#print(tracking_home)\n",
    "\n",
    "# reverse direction of play in the second half so that home team is always attacking from right->left\n",
    "tracking_home,tracking_away,events = mio.to_single_playing_direction(tracking_home,tracking_away,events)\n",
    "\n",
    "# Calculate player velocities\n",
    "tracking_home = mvel.calc_player_velocities(tracking_home,smoothing=True)\n",
    "tracking_away = mvel.calc_player_velocities(tracking_away,smoothing=True)\n",
    "\n",
    "\n",
    "params = mpc.default_model_params(3)\n",
    "\n",
    "\n",
    "GK_numbers = [mio.find_goalkeeper(tracking_home),mio.find_goalkeeper(tracking_away)]"
   ]
  },
  {
   "cell_type": "code",
   "execution_count": 3,
   "id": "1ee32743-2477-4df7-81d5-61127c297310",
   "metadata": {},
   "outputs": [],
   "source": [
    "n=269"
   ]
  },
  {
   "cell_type": "code",
   "execution_count": null,
   "id": "2aef104a-3f70-4e75-bb9d-8ea47ff64526",
   "metadata": {},
   "outputs": [],
   "source": [
    "PPCF,xgrid,ygrid = mpc.generate_pitch_control_for_event(n, events, tracking_home, tracking_away, params, GK_numbers, field_dimen = (106.,68.,), n_grid_cells_x = 106)"
   ]
  },
  {
   "cell_type": "code",
   "execution_count": null,
   "id": "31032086-9a63-4e8b-954c-e7b7758f71f1",
   "metadata": {},
   "outputs": [],
   "source": [
    "PR=pr.Pitch_Risk(at=events.loc[n].Team,PPCF=PPCF)"
   ]
  },
  {
   "cell_type": "code",
   "execution_count": null,
   "id": "961fc06d-427b-48b9-9e72-23109a1ebb24",
   "metadata": {},
   "outputs": [],
   "source": [
    "fig,ax=mviz.plot_pitchcontrol_for_d( n, events,  tracking_home, tracking_away, PR, annotate=True )"
   ]
  },
  {
   "cell_type": "code",
   "execution_count": null,
   "id": "7ff3f538-19aa-4fbb-a5fb-3a6896e9eccf",
   "metadata": {},
   "outputs": [],
   "source": []
  },
  {
   "cell_type": "code",
   "execution_count": null,
   "id": "9a0dfedd-183f-4393-b645-0911958e3e7c",
   "metadata": {},
   "outputs": [],
   "source": []
  }
 ],
 "metadata": {
  "kernelspec": {
   "display_name": "Python 3",
   "language": "python",
   "name": "python3"
  },
  "language_info": {
   "codemirror_mode": {
    "name": "ipython",
    "version": 3
   },
   "file_extension": ".py",
   "mimetype": "text/x-python",
   "name": "python",
   "nbconvert_exporter": "python",
   "pygments_lexer": "ipython3",
   "version": "3.9.0"
  }
 },
 "nbformat": 4,
 "nbformat_minor": 5
}
